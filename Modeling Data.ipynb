{
 "cells": [
  {
   "cell_type": "code",
   "execution_count": 1,
   "metadata": {},
   "outputs": [],
   "source": [
    "import pandas as pd\n",
    "import csv\n",
    "import torch\n",
    "import copy\n",
    "import numpy as np\n",
    "from torchtext import data\n",
    "import random\n",
    "import torch.nn as nn\n",
    "import torch.optim as optim\n",
    "import torch.nn.functional as F\n",
    "\n",
    "#based on homework 2 framework"
   ]
  },
  {
   "cell_type": "code",
   "execution_count": 2,
   "metadata": {},
   "outputs": [],
   "source": [
    "data_raw = pd.read_csv('standardized.csv')\n",
    "decisions = pd.read_csv('decisions.csv')"
   ]
  },
  {
   "cell_type": "code",
   "execution_count": 73,
   "metadata": {},
   "outputs": [],
   "source": [
    "TEXT = data.Field(\n",
    "    sequential=True,\n",
    "    fix_length=500,\n",
    "    tokenize='spacy',\n",
    "    pad_first=True,\n",
    "    lower=True\n",
    ")\n",
    "\n",
    "LABEL = data.LabelField(dtype = torch.float,\n",
    "                        use_vocab=False, \n",
    "                        sequential=False,\n",
    "                        is_target=True)\n",
    "\n",
    "full = data.TabularDataset('standardized.csv', 'csv', skip_header=True,\n",
    "        fields=[\n",
    "            ('docket', None),\n",
    "            ('outcome', None),\n",
    "            ('facts', TEXT),\n",
    "            ('conclusion', None),\n",
    "            ('target', LABEL)\n",
    "        ])\n",
    "\n",
    "TEXT.build_vocab(\n",
    "    full,\n",
    "    max_size=20000,\n",
    "    min_freq=150,\n",
    "    vectors=None\n",
    ")\n",
    "\n",
    "LABEL.build_vocab(full)"
   ]
  },
  {
   "cell_type": "code",
   "execution_count": 74,
   "metadata": {},
   "outputs": [
    {
     "name": "stdout",
     "output_type": "stream",
     "text": [
      "{'facts': ['  ', 'the', 'subject', 'property', 'is', '116', 'years', 'old', ',', 'and', 'consists', 'of', 'a', 'three', '-', 'story', 'dwelling', 'of', 'frame', 'construction', 'containing', '2,068', 'square', 'feet', 'of', 'living', 'area', '.', ' ', 'features', 'of', 'the', 'home', 'include', 'a', 'full', 'docket', 'no', ':', '09', '-', '23425.001-r-1', '   ', '2', 'of', '4', 'basement', '.', ' ', 'the', 'subject', 'property', 'has', 'a', '3,712', 'square', 'foot', 'site', ',', 'is', 'located', 'in', 'lake', 'view', 'township', ',', 'cook', 'county', 'and', 'is', 'classified', 'as', 'a', 'class', '2', 'property', 'under', 'the', 'cook', 'county', 'real', 'property', 'assessment', 'classification', 'ordinance', '.', ' ', 'the', 'appellant', 'contends', 'assessment', 'inequity', 'as', 'the', 'basis', 'of', 'the', 'appeal', '.', ' ', 'in', 'support', 'of', 'this', 'argument', 'the', 'appellant', 'submitted', 'information', 'on', 'three', 'suggested', 'equity', 'comparables', '.', '  ', 'the', 'board', 'of', 'review', 'submitted', 'its', '\"', 'board', 'of', 'review', 'notes', 'on', 'appeal', '\"', 'disclosing', 'the', 'total', 'assessment', 'for', 'the', 'subject', 'of', '$', '68,286', '.', ' ', 'the', 'subject', 'property', 'has', 'an', 'improvement', 'assessment', 'of', '$', '46,757', 'or', '$', '22.61', 'per', 'square', 'foot', 'of', 'living', 'area', '.', ' ', 'in', 'support', 'of', 'its', 'contention', 'of', 'the', 'correct', 'assessment', 'the', 'board', 'of', 'review', 'submitted', 'information', 'on', 'four', 'suggested', 'equity', 'comparables', '.', ' ', 'the', 'appellant', 'proffered', 'a', 'one', '-', 'page', 'brief', 'as', 'rebuttal', 'evidence', '.', '  '], 'target': '0'}\n"
     ]
    }
   ],
   "source": [
    "print(vars(full.examples[125]))"
   ]
  },
  {
   "cell_type": "code",
   "execution_count": 75,
   "metadata": {},
   "outputs": [],
   "source": [
    "SEED = 189053\n",
    "train_data, test_data, valid_data = full.split(split_ratio=[0.7, 0.15, 0.15], random_state = random.seed(SEED))"
   ]
  },
  {
   "cell_type": "code",
   "execution_count": 76,
   "metadata": {},
   "outputs": [
    {
     "name": "stdout",
     "output_type": "stream",
     "text": [
      "Number of training examples: 31921\n",
      "Number of validation examples: 6840\n",
      "Number of testing examples: 6841\n"
     ]
    }
   ],
   "source": [
    "print(f'Number of training examples: {len(train_data)}')\n",
    "print(f'Number of validation examples: {len(valid_data)}')\n",
    "print(f'Number of testing examples: {len(test_data)}')"
   ]
  },
  {
   "cell_type": "code",
   "execution_count": 77,
   "metadata": {},
   "outputs": [
    {
     "name": "stdout",
     "output_type": "stream",
     "text": [
      "Unique tokens in TEXT vocabulary: 2173\n",
      "Unique tokens in LABEL vocabulary: 2\n"
     ]
    }
   ],
   "source": [
    "print(f\"Unique tokens in TEXT vocabulary: {len(TEXT.vocab)}\")\n",
    "print(f\"Unique tokens in LABEL vocabulary: {len(LABEL.vocab)}\")\n",
    "\n",
    "#13114 unique @ min_freq 15\n",
    "#8700 unique @ min_freq 25\n",
    "#6186 unique @ min_freq 35\n",
    "#4533 unique @ min_freq 50\n",
    "#3352 unique @ min_freq 75\n",
    "#2799 unique @ min_freq 100\n",
    "#2173 unique @ min_freq 100"
   ]
  },
  {
   "cell_type": "code",
   "execution_count": 78,
   "metadata": {},
   "outputs": [],
   "source": [
    "BATCH_SIZE = 64\n",
    "\n",
    "train_iterator, valid_iterator, test_iterator = data.BucketIterator.splits(\n",
    "    (train_data, valid_data, test_data), \n",
    "    batch_size = BATCH_SIZE,\n",
    "    device = 'cpu',\n",
    "    sort_key=lambda x: len(x.facts))"
   ]
  },
  {
   "cell_type": "code",
   "execution_count": 80,
   "metadata": {},
   "outputs": [],
   "source": [
    "def binary_accuracy(preds, y):\n",
    "    \"\"\"\n",
    "    Return accuracy per batch\n",
    "    \"\"\"\n",
    "    #round predictions to the closest integer\n",
    "    rounded_preds = torch.round(torch.sigmoid(preds))\n",
    "    correct = (rounded_preds == y).float() #convert into float for division \n",
    "    acc = correct.sum() / len(correct)\n",
    "    return acc\n",
    "\n",
    "class WordEmbAvg(nn.Module):\n",
    "    def __init__(self, input_dim, embedding_dim, hidden_dim, output_dim, pad_idx):\n",
    "        super().__init__()\n",
    "        \n",
    "        self.embedding = nn.Embedding(input_dim, embedding_dim, padding_idx = pad_idx)  \n",
    "        self.linear1 = nn.Linear(embedding_dim, hidden_dim)\n",
    "        self.linear2 = nn.Linear(hidden_dim, output_dim)\n",
    "        self.relu = nn.ReLU()                                 \n",
    "        \n",
    "    def forward(self, text):\n",
    "        embeddings = self.embedding(text)\n",
    "        embeddings_avg = embeddings.mean(0)\n",
    "        output = self.linear1(embeddings_avg)\n",
    "        final = self.linear2(self.relu(output))\n",
    "        return final\n",
    "    \n",
    "class TrainingModule():\n",
    "\n",
    "    def __init__(self, model):\n",
    "        self.model = model\n",
    "        self.loss_fn = nn.BCEWithLogitsLoss()\n",
    "        self.optimizer = optim.Adam(model.parameters(), lr=0.001)\n",
    "        self.model.train()\n",
    "    \n",
    "    def train_epoch(self, iterator):\n",
    "        epoch_loss = 0\n",
    "        epoch_acc = 0\n",
    "    \n",
    "        for batch in iterator:\n",
    "            #batch.facts has the texts and batch.target has the labels.          \n",
    "            self.optimizer.zero_grad()\n",
    "            predictions = self.model(batch.facts).squeeze(1)\n",
    "            loss = self.loss_fn(predictions, batch.target)                      \n",
    "            accuracy = binary_accuracy(predictions, batch.target) \n",
    "                   \n",
    "            loss.backward()\n",
    "            self.optimizer.step()\n",
    "                        \n",
    "            epoch_loss += loss.item()\n",
    "            epoch_acc += accuracy.item()\n",
    "        \n",
    "        return epoch_loss / len(iterator), epoch_acc / len(iterator)\n",
    "    \n",
    "    def train_model(self, train_iterator, dev_iterator):\n",
    "        dev_accs = [0.]\n",
    "        for epoch in range(5):\n",
    "            self.train_epoch(train_iterator)\n",
    "            dev_acc = self.evaluate(dev_iterator)\n",
    "            print(f\"Epoch {epoch}: Dev Accuracy: {dev_acc[1]} Dev Loss:{dev_acc[0]}\")\n",
    "            if dev_acc[1] > max(dev_accs):\n",
    "                best_model = copy.deepcopy(self)\n",
    "            dev_accs.append(dev_acc[1])\n",
    "        return best_model.model\n",
    "                \n",
    "    def evaluate(self, iterator):\n",
    "        epoch_loss = 0\n",
    "        epoch_acc = 0\n",
    "        \n",
    "        self.model.eval()\n",
    "    \n",
    "        with torch.no_grad():\n",
    "            for batch in iterator:\n",
    "                predictions = self.model(batch.facts).squeeze(1)\n",
    "                loss = self.loss_fn(predictions, batch.target)                      \n",
    "                accuracy = binary_accuracy(predictions, batch.target) \n",
    "\n",
    "                epoch_loss += loss.item()\n",
    "                epoch_acc += accuracy.item()\n",
    "        \n",
    "        return epoch_loss / len(iterator), epoch_acc / len(iterator)\n",
    "    \n",
    "INPUT_DIM = len(TEXT.vocab)\n",
    "EMBEDDING_DIM = 200\n",
    "HIDDEN_DIM = 50\n",
    "OUTPUT_DIM = 1\n",
    "PAD_IDX = TEXT.vocab.stoi[TEXT.pad_token]\n",
    "\n",
    "model = WordEmbAvg(INPUT_DIM, EMBEDDING_DIM, HIDDEN_DIM, OUTPUT_DIM, PAD_IDX)"
   ]
  },
  {
   "cell_type": "code",
   "execution_count": null,
   "metadata": {},
   "outputs": [
    {
     "name": "stdout",
     "output_type": "stream",
     "text": [
      "Epoch 0: Dev Accuracy: 0.836552904030987 Dev Loss:0.3811733804852049\n",
      "Epoch 1: Dev Accuracy: 0.8514060411497811 Dev Loss:0.34807823500900625\n",
      "Epoch 2: Dev Accuracy: 0.856892523364486 Dev Loss:0.33633933606270316\n"
     ]
    }
   ],
   "source": [
    "model = model.to()\n",
    "tm = TrainingModule(model)\n",
    "\n",
    "best_model = tm.train_model(train_iterator, valid_iterator)"
   ]
  },
  {
   "cell_type": "code",
   "execution_count": null,
   "metadata": {},
   "outputs": [],
   "source": [
    "tm.model = best_model\n",
    "test_loss, test_acc = tm.evaluate(test_iterator)\n",
    "print(f'Test Loss: {test_loss:.3f} | Test Acc: {test_acc*100:.2f}%')"
   ]
  },
  {
   "cell_type": "code",
   "execution_count": 12,
   "metadata": {},
   "outputs": [],
   "source": [
    "a = tm.model.embedding.weight.data\n",
    "result = list(torch.norm(a, p=2, dim=1).numpy())\n",
    "\n",
    "word_ls = TEXT.vocab.itos\n",
    "top_n = 50\n",
    "top_neg = {}\n",
    "top_pos = {}\n",
    "\n",
    "max_pos = [result.index(x) for x in sorted(result, reverse=True)][:top_n]\n",
    "max_neg = [result.index(x) for x in sorted(result)][:top_n]\n",
    "\n",
    "for i in range(top_n):\n",
    "    i_p = max_pos[i]\n",
    "    i_n = max_neg[i]\n",
    "    top_pos[word_ls[i_p]] = result[i_p]\n",
    "    top_neg[word_ls[i_n]] = result[i_n]"
   ]
  },
  {
   "cell_type": "code",
   "execution_count": 13,
   "metadata": {},
   "outputs": [
    {
     "data": {
      "text/plain": [
       "{'<pad>': 0.0,\n",
       " '340,000': 12.121225,\n",
       " 'representing': 12.179583,\n",
       " 'selected': 12.184908,\n",
       " 'amenities': 12.235453,\n",
       " '05': 12.242419,\n",
       " 'active': 12.246576,\n",
       " 'march': 12.266368,\n",
       " '’': 12.281819,\n",
       " 'elevator': 12.315381,\n",
       " 'room': 12.321776,\n",
       " 'under': 12.323661,\n",
       " 'north': 12.339952,\n",
       " 'life': 12.384555,\n",
       " '792': 12.392569,\n",
       " 'significant': 12.397833,\n",
       " 'inequitably': 12.43993,\n",
       " 'response': 12.450005,\n",
       " 'swift': 12.459846,\n",
       " 'standing': 12.461824,\n",
       " 'demolition': 12.468464,\n",
       " 'found': 12.4745655,\n",
       " 'owners': 12.485443,\n",
       " 'non': 12.487463,\n",
       " '123': 12.520738,\n",
       " 'tax': 12.530328,\n",
       " 'bathrooms': 12.554637,\n",
       " 'transaction': 12.5632105,\n",
       " 'theboard': 12.580719,\n",
       " '2001': 12.586535,\n",
       " 'subject.the': 12.590843,\n",
       " 'replacement': 12.593771,\n",
       " '54': 12.605616,\n",
       " 'closed': 12.6465645,\n",
       " 'withinthe': 12.658865,\n",
       " '1,320': 12.664407,\n",
       " 'argument': 12.666277,\n",
       " 'single': 12.666827,\n",
       " '1967': 12.682098,\n",
       " '61': 12.687147,\n",
       " '320,000': 12.68996,\n",
       " '17': 12.691257,\n",
       " 'kleszynski': 12.691625,\n",
       " '33.30': 12.691891,\n",
       " 'private': 12.723279,\n",
       " 'garageranging': 12.741896,\n",
       " 'been': 12.751384,\n",
       " '72': 12.754589,\n",
       " 'building': 12.757647,\n",
       " '1956': 12.7699}"
      ]
     },
     "execution_count": 13,
     "metadata": {},
     "output_type": "execute_result"
    }
   ],
   "source": [
    "top_neg"
   ]
  },
  {
   "cell_type": "code",
   "execution_count": 14,
   "metadata": {},
   "outputs": [
    {
     "data": {
      "text/plain": [
       "{'submit': 18.00373,\n",
       " '1910.40(a': 17.746069,\n",
       " 'limited': 17.55114,\n",
       " 'dispute': 17.482466,\n",
       " 'proposed': 17.475155,\n",
       " 'complete': 17.473719,\n",
       " 'fourequity': 17.470196,\n",
       " 'valuation': 17.3974,\n",
       " 'matter': 17.324213,\n",
       " 'applied': 17.09348,\n",
       " 'rebuttal': 17.076965,\n",
       " 'answer': 17.061985,\n",
       " 'timely': 17.06145,\n",
       " 'address': 16.92053,\n",
       " 'comparables.in': 16.863894,\n",
       " 'applying': 16.76941,\n",
       " 'insupport': 16.746136,\n",
       " 'thebuilding': 16.73585,\n",
       " '1910.66(c': 16.692356,\n",
       " 'depicted': 16.495459,\n",
       " 'u.s': 16.486486,\n",
       " '105,000': 16.45333,\n",
       " 'joseph': 16.421343,\n",
       " 'stipulate': 16.41403,\n",
       " 'comply': 16.408504,\n",
       " 'determining': 16.38805,\n",
       " 'madison': 16.369648,\n",
       " 'differ': 16.361387,\n",
       " 'said': 16.3195,\n",
       " 'fairly': 16.316051,\n",
       " 'overvalued': 16.293453,\n",
       " 'triennial': 16.286564,\n",
       " 'purported': 16.2607,\n",
       " 'rollover': 16.243225,\n",
       " 'pertaining': 16.237326,\n",
       " '1958': 16.212814,\n",
       " 'multiple': 16.203047,\n",
       " 'detached': 16.183487,\n",
       " 'expense': 16.18097,\n",
       " 'beginning': 16.170961,\n",
       " '441': 16.170826,\n",
       " 'substantive': 16.166718,\n",
       " 'subdivision': 16.165436,\n",
       " 'sales.in': 16.112307,\n",
       " '550': 16.100554,\n",
       " 'pendens': 16.094276,\n",
       " 'thisargument': 16.080215,\n",
       " 'square': 16.07474,\n",
       " '81': 16.05579,\n",
       " 'if': 16.048655}"
      ]
     },
     "execution_count": 14,
     "metadata": {},
     "output_type": "execute_result"
    }
   ],
   "source": [
    "top_pos"
   ]
  },
  {
   "cell_type": "markdown",
   "metadata": {},
   "source": [
    "# Alternate Evaluation Dimensions"
   ]
  },
  {
   "cell_type": "code",
   "execution_count": 15,
   "metadata": {},
   "outputs": [],
   "source": [
    "joined = pd.merge(data_raw, decisions, left_on='docket', right_on='docket_name')\n",
    "joined['year'] = joined.date.str.slice(0,4)"
   ]
  },
  {
   "cell_type": "code",
   "execution_count": 37,
   "metadata": {},
   "outputs": [],
   "source": [
    "def eval_subset(joined, attr, val):\n",
    "    bool_list = joined[attr] == val\n",
    "    bool_list = bool_list.tolist()\n",
    "    filtered_full = [i for (i, val) in zip(full.examples, bool_list) if val]\n",
    "\n",
    "    mini_full = data.Dataset(\n",
    "        filtered_full,\n",
    "        fields=[('facts', TEXT),('target', LABEL)])\n",
    "\n",
    "    filtered_iterator = data.Iterator(\n",
    "        mini_full, \n",
    "        batch_size = BATCH_SIZE,\n",
    "        device = 'cpu',\n",
    "        sort_key=lambda x: len(x.facts))\n",
    "\n",
    "    test_loss, test_acc = tm.evaluate(filtered_iterator)\n",
    "    print(\"~~~~\")\n",
    "    print(\"Analyzing data where {} is {}\".format(attr, val))\n",
    "    print(f'Test Loss: {test_loss:.3f} | Test Acc: {test_acc*100:.2f}%')\n",
    "    print(f'Number of cases: {joined[bool_list].shape[0]}')\n",
    "    print(f'Percent of cases with reductions: {joined[bool_list].target.mean()*100:.2f}%')"
   ]
  },
  {
   "cell_type": "code",
   "execution_count": 38,
   "metadata": {},
   "outputs": [
    {
     "name": "stdout",
     "output_type": "stream",
     "text": [
      "~~~~\n",
      "Analyzing data where county is Cook\n",
      "Test Loss: 0.294 | Test Acc: 88.00%\n",
      "Number of cases: 36073\n",
      "Percent of cases with reductions: 44.75%\n"
     ]
    }
   ],
   "source": [
    "eval_subset(joined, 'county', 'Cook')"
   ]
  },
  {
   "cell_type": "code",
   "execution_count": 41,
   "metadata": {},
   "outputs": [
    {
     "name": "stdout",
     "output_type": "stream",
     "text": [
      "~~~~\n",
      "Analyzing data where appellant is Mack Companies\n",
      "Test Loss: 0.295 | Test Acc: 83.36%\n",
      "Number of cases: 281\n",
      "Percent of cases with reductions: 2.14%\n"
     ]
    }
   ],
   "source": [
    "eval_subset(joined, 'appellant', 'Mack Companies')"
   ]
  },
  {
   "cell_type": "code",
   "execution_count": 42,
   "metadata": {},
   "outputs": [
    {
     "name": "stdout",
     "output_type": "stream",
     "text": [
      "~~~~\n",
      "Analyzing data where appellant is Inverclyde, LLC\n",
      "Test Loss: 0.448 | Test Acc: 78.12%\n",
      "Number of cases: 128\n",
      "Percent of cases with reductions: 37.50%\n"
     ]
    }
   ],
   "source": [
    "eval_subset(joined, 'appellant', 'Inverclyde, LLC')"
   ]
  },
  {
   "cell_type": "code",
   "execution_count": 47,
   "metadata": {},
   "outputs": [
    {
     "name": "stdout",
     "output_type": "stream",
     "text": [
      "~~~~\n",
      "Analyzing data where county is Lake\n",
      "Test Loss: 0.385 | Test Acc: 85.91%\n",
      "Number of cases: 3487\n",
      "Percent of cases with reductions: 14.11%\n"
     ]
    }
   ],
   "source": [
    "eval_subset(joined, 'county', 'Lake')"
   ]
  },
  {
   "cell_type": "code",
   "execution_count": 49,
   "metadata": {},
   "outputs": [
    {
     "name": "stdout",
     "output_type": "stream",
     "text": [
      "~~~~\n",
      "Analyzing data where reason_code is 2\n",
      "Test Loss: 0.318 | Test Acc: 86.97%\n",
      "Number of cases: 42338\n",
      "Percent of cases with reductions: 41.70%\n"
     ]
    }
   ],
   "source": [
    "eval_subset(joined, 'reason_code', '2')"
   ]
  },
  {
   "cell_type": "code",
   "execution_count": 50,
   "metadata": {},
   "outputs": [
    {
     "name": "stdout",
     "output_type": "stream",
     "text": [
      "~~~~\n",
      "Analyzing data where reason_code is 1\n",
      "Test Loss: 0.374 | Test Acc: 82.98%\n",
      "Number of cases: 3195\n",
      "Percent of cases with reductions: 40.85%\n"
     ]
    }
   ],
   "source": [
    "eval_subset(joined, 'reason_code', '1')"
   ]
  },
  {
   "cell_type": "code",
   "execution_count": 52,
   "metadata": {},
   "outputs": [
    {
     "name": "stdout",
     "output_type": "stream",
     "text": [
      "~~~~\n",
      "Analyzing data where prop_type is R\n",
      "Test Loss: 0.326 | Test Acc: 86.59%\n",
      "Number of cases: 41491\n",
      "Percent of cases with reductions: 37.86%\n"
     ]
    }
   ],
   "source": [
    "eval_subset(joined, 'prop_type', 'R')"
   ]
  },
  {
   "cell_type": "code",
   "execution_count": 53,
   "metadata": {},
   "outputs": [
    {
     "name": "stdout",
     "output_type": "stream",
     "text": [
      "~~~~\n",
      "Analyzing data where prop_type is C\n",
      "Test Loss: 0.292 | Test Acc: 86.59%\n",
      "Number of cases: 3230\n",
      "Percent of cases with reductions: 79.13%\n"
     ]
    }
   ],
   "source": [
    "eval_subset(joined, 'prop_type', 'C')"
   ]
  },
  {
   "cell_type": "code",
   "execution_count": 54,
   "metadata": {},
   "outputs": [
    {
     "name": "stdout",
     "output_type": "stream",
     "text": [
      "~~~~\n",
      "Analyzing data where prop_type is I\n",
      "Test Loss: 0.241 | Test Acc: 91.26%\n",
      "Number of cases: 847\n",
      "Percent of cases with reductions: 83.12%\n"
     ]
    }
   ],
   "source": [
    "eval_subset(joined, 'prop_type', 'I')"
   ]
  },
  {
   "cell_type": "code",
   "execution_count": 57,
   "metadata": {},
   "outputs": [
    {
     "name": "stdout",
     "output_type": "stream",
     "text": [
      "~~~~\n",
      "Analyzing data where valuation_class is 1\n",
      "Test Loss: 0.321 | Test Acc: 86.72%\n",
      "Number of cases: 45125\n",
      "Percent of cases with reductions: 41.40%\n"
     ]
    }
   ],
   "source": [
    "eval_subset(joined, 'valuation_class', 1)"
   ]
  },
  {
   "cell_type": "code",
   "execution_count": 58,
   "metadata": {},
   "outputs": [
    {
     "name": "stdout",
     "output_type": "stream",
     "text": [
      "~~~~\n",
      "Analyzing data where valuation_class is 2\n",
      "Test Loss: 0.407 | Test Acc: 81.26%\n",
      "Number of cases: 370\n",
      "Percent of cases with reductions: 60.27%\n"
     ]
    }
   ],
   "source": [
    "eval_subset(joined, 'valuation_class', 2)"
   ]
  },
  {
   "cell_type": "code",
   "execution_count": 68,
   "metadata": {},
   "outputs": [
    {
     "name": "stdout",
     "output_type": "stream",
     "text": [
      "~~~~\n",
      "Analyzing data where year is 2016\n",
      "Test Loss: 0.311 | Test Acc: 87.63%\n",
      "Number of cases: 10473\n",
      "Percent of cases with reductions: 50.55%\n"
     ]
    }
   ],
   "source": [
    "eval_subset(joined, 'year', '2016')"
   ]
  },
  {
   "cell_type": "code",
   "execution_count": 69,
   "metadata": {},
   "outputs": [
    {
     "name": "stdout",
     "output_type": "stream",
     "text": [
      "~~~~\n",
      "Analyzing data where year is 2017\n",
      "Test Loss: 0.324 | Test Acc: 86.47%\n",
      "Number of cases: 8293\n",
      "Percent of cases with reductions: 38.02%\n"
     ]
    }
   ],
   "source": [
    "eval_subset(joined, 'year', '2017')"
   ]
  },
  {
   "cell_type": "code",
   "execution_count": 70,
   "metadata": {},
   "outputs": [
    {
     "name": "stdout",
     "output_type": "stream",
     "text": [
      "~~~~\n",
      "Analyzing data where year is 2018\n",
      "Test Loss: 0.296 | Test Acc: 88.19%\n",
      "Number of cases: 7399\n",
      "Percent of cases with reductions: 30.42%\n"
     ]
    }
   ],
   "source": [
    "eval_subset(joined, 'year', '2018')"
   ]
  },
  {
   "cell_type": "code",
   "execution_count": 71,
   "metadata": {},
   "outputs": [
    {
     "name": "stdout",
     "output_type": "stream",
     "text": [
      "~~~~\n",
      "Analyzing data where year is 2019\n",
      "Test Loss: 0.328 | Test Acc: 86.71%\n",
      "Number of cases: 7490\n",
      "Percent of cases with reductions: 24.43%\n"
     ]
    }
   ],
   "source": [
    "eval_subset(joined, 'year', '2019')"
   ]
  },
  {
   "cell_type": "code",
   "execution_count": 72,
   "metadata": {},
   "outputs": [
    {
     "name": "stdout",
     "output_type": "stream",
     "text": [
      "~~~~\n",
      "Analyzing data where year is 2020\n",
      "Test Loss: 0.366 | Test Acc: 85.22%\n",
      "Number of cases: 2721\n",
      "Percent of cases with reductions: 22.79%\n"
     ]
    }
   ],
   "source": [
    "eval_subset(joined, 'year', '2020')"
   ]
  },
  {
   "cell_type": "code",
   "execution_count": 65,
   "metadata": {},
   "outputs": [],
   "source": []
  }
 ],
 "metadata": {
  "kernelspec": {
   "display_name": "Python 3",
   "language": "python",
   "name": "python3"
  },
  "language_info": {
   "codemirror_mode": {
    "name": "ipython",
    "version": 3
   },
   "file_extension": ".py",
   "mimetype": "text/x-python",
   "name": "python",
   "nbconvert_exporter": "python",
   "pygments_lexer": "ipython3",
   "version": "3.7.6"
  }
 },
 "nbformat": 4,
 "nbformat_minor": 4
}
