{
 "cells": [
  {
   "cell_type": "code",
   "execution_count": 176,
   "metadata": {},
   "outputs": [],
   "source": [
    "import PyPDF2\n",
    "import urllib\n",
    "from bs4 import BeautifulSoup\n",
    "import requests\n",
    "import pandas as pd\n",
    "import time\n",
    "import io"
   ]
  },
  {
   "cell_type": "code",
   "execution_count": 204,
   "metadata": {},
   "outputs": [],
   "source": [
    "def gen_valid_dates():\n",
    "    d_to_get = []\n",
    "    for yr in range(2015, 2021):\n",
    "        syr = str(yr)\n",
    "        for month in range(1, 13):\n",
    "            smth = str(month).zfill(2)\n",
    "            d_to_get.append(syr + '_' + smth)\n",
    "    return d_to_get[0:9] + d_to_get[10:62] + [d_to_get[63]]\n",
    "\n",
    "def process_soup(soup, date):\n",
    "    trs = soup.find_all('table')[1].find_all('tr')\n",
    "    results = []\n",
    "    for i in range(1, len(trs)):\n",
    "        cur_tr = trs[i]    \n",
    "        tds = cur_tr.find_all(\"td\")\n",
    "        sub_dict = {}\n",
    "        sub_dict['link'] = tds[0].find('a')['href']\n",
    "        sub_dict['appellant'] = tds[1].text\n",
    "        sub_dict['county'] = tds[2].text\n",
    "        sub_dict['reason_code'] = tds[3].text\n",
    "        docket = tds[0].text.split('-')\n",
    "        sub_dict['prop_type'] = docket[2]\n",
    "        sub_dict['valuation_class'] = docket[3]\n",
    "        sub_dict['docket_name'] = docket[0] + '-' + docket[1]\n",
    "        sub_dict['date'] = date\n",
    "        results.append(sub_dict)\n",
    "    return pd.DataFrame(results)\n",
    "\n",
    "def get_itemized_decisions():\n",
    "    valid_dates = gen_valid_dates()\n",
    "    for i, date in enumerate(valid_dates):\n",
    "        print(date)\n",
    "        response = requests.get('http://www.ptab.illinois.gov/decisions/default.asp?sdf=' + date)\n",
    "        time.sleep(5)\n",
    "        soup = BeautifulSoup(response.content, 'html.parser')\n",
    "        if i == 0:\n",
    "            result = process_soup(soup, date)\n",
    "        else:\n",
    "            result = result.append(process_soup(soup, date))\n",
    "    return result"
   ]
  },
  {
   "cell_type": "code",
   "execution_count": 205,
   "metadata": {},
   "outputs": [
    {
     "name": "stdout",
     "output_type": "stream",
     "text": [
      "2015_01\n",
      "2015_02\n",
      "2015_03\n",
      "2015_04\n",
      "2015_05\n",
      "2015_06\n",
      "2015_07\n",
      "2015_08\n",
      "2015_09\n",
      "2015_11\n",
      "2015_12\n",
      "2016_01\n",
      "2016_02\n",
      "2016_03\n",
      "2016_04\n",
      "2016_05\n",
      "2016_06\n",
      "2016_07\n",
      "2016_08\n",
      "2016_09\n",
      "2016_10\n",
      "2016_11\n",
      "2016_12\n",
      "2017_01\n",
      "2017_02\n",
      "2017_03\n",
      "2017_04\n",
      "2017_05\n",
      "2017_06\n",
      "2017_07\n",
      "2017_08\n",
      "2017_09\n",
      "2017_10\n",
      "2017_11\n",
      "2017_12\n",
      "2018_01\n",
      "2018_02\n",
      "2018_03\n",
      "2018_04\n",
      "2018_05\n",
      "2018_06\n",
      "2018_07\n",
      "2018_08\n",
      "2018_09\n",
      "2018_10\n",
      "2018_11\n",
      "2018_12\n",
      "2019_01\n",
      "2019_02\n",
      "2019_03\n",
      "2019_04\n",
      "2019_05\n",
      "2019_06\n",
      "2019_07\n",
      "2019_08\n",
      "2019_09\n",
      "2019_10\n",
      "2019_11\n",
      "2019_12\n",
      "2020_01\n",
      "2020_02\n",
      "2020_04\n"
     ]
    }
   ],
   "source": [
    "decisions = get_itemized_decisions()\n",
    "decisions.to_csv('decisions.csv', index=False)"
   ]
  },
  {
   "cell_type": "code",
   "execution_count": 206,
   "metadata": {},
   "outputs": [
    {
     "data": {
      "text/plain": [
       "link               http://www.ptab.illinois.gov/web/Decisions/201...\n",
       "appellant                                                 Busey Bank\n",
       "county                                                     Champaign\n",
       "reason_code                                                        2\n",
       "prop_type                                                          C\n",
       "valuation_class                                                    2\n",
       "docket_name                                               2012-00035\n",
       "date                                                         2015_01\n",
       "Name: 0, dtype: object"
      ]
     },
     "execution_count": 206,
     "metadata": {},
     "output_type": "execute_result"
    }
   ],
   "source": [
    "decisions.iloc[0]"
   ]
  },
  {
   "cell_type": "code",
   "execution_count": 226,
   "metadata": {},
   "outputs": [],
   "source": [
    "def link_to_text(link):\n",
    "    response = requests.get(link) \n",
    "    with io.BytesIO(response.content) as f:\n",
    "        pdf = PyPDF2.PdfFileReader(f)\n",
    "        num_page = pdf.getNumPages()\n",
    "        full_str = ''\n",
    "        for i in range(num_page):\n",
    "            page = pdf.getPage(i)\n",
    "            text = page.extractText()\n",
    "            full_str = full_str + text\n",
    "    return full_str\n",
    "\n",
    "def process_entry(entry):\n",
    "    try:\n",
    "        text = link_to_text(entry['link'])\n",
    "        f = open('files/' + entry['docket_name'] + '.txt', \"w+\")\n",
    "        f.write(text)\n",
    "        f.close()\n",
    "        entry.to_frame().T.to_csv('success.csv', mode='a', header=False, index=False)\n",
    "    except:\n",
    "        entry.to_frame().T.to_csv('failed.csv', mode='a', header=False, index=False)\n",
    "\n",
    "def process_decisions(decisions):\n",
    "    for index, row in decisions.iterrows():\n",
    "        if index % 100 == 0:\n",
    "            print(index)\n",
    "        process_entry(row)\n",
    "        time.sleep(0.5)"
   ]
  },
  {
   "cell_type": "code",
   "execution_count": null,
   "metadata": {},
   "outputs": [
    {
     "name": "stdout",
     "output_type": "stream",
     "text": [
      "0\n",
      "100\n",
      "200\n",
      "300\n"
     ]
    }
   ],
   "source": [
    "process_decisions(decisions)"
   ]
  },
  {
   "cell_type": "markdown",
   "metadata": {},
   "source": [
    "Reason Closed Key:\t1‑Decision/Hearing | 2‑Decision/Evidence | 3‑Stipulation | 4‑Dismissal | 5‑Withdrawal | 6‑Duplicate | 7‑Premature | 8‑Rollover | 9‑Incomplete | A‑Void | B‑Dismissal/Lack Standing | C‑Dismissal/FTA"
   ]
  }
 ],
 "metadata": {
  "kernelspec": {
   "display_name": "Python 3",
   "language": "python",
   "name": "python3"
  },
  "language_info": {
   "codemirror_mode": {
    "name": "ipython",
    "version": 3
   },
   "file_extension": ".py",
   "mimetype": "text/x-python",
   "name": "python",
   "nbconvert_exporter": "python",
   "pygments_lexer": "ipython3",
   "version": "3.7.6"
  }
 },
 "nbformat": 4,
 "nbformat_minor": 4
}
