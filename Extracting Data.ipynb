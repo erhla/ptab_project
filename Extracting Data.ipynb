{
 "cells": [
  {
   "cell_type": "code",
   "execution_count": 1,
   "metadata": {},
   "outputs": [],
   "source": [
    "import PyPDF2\n",
    "import urllib\n",
    "from bs4 import BeautifulSoup\n",
    "import requests\n",
    "import pandas as pd\n",
    "import time\n",
    "import io\n",
    "import textract\n",
    "import os"
   ]
  },
  {
   "cell_type": "code",
   "execution_count": 2,
   "metadata": {},
   "outputs": [],
   "source": [
    "#scrapes the PTAB website to find all recent decisions and metadata\n",
    "\n",
    "def gen_valid_dates():\n",
    "    d_to_get = []\n",
    "    for yr in range(2015, 2021):\n",
    "        syr = str(yr)\n",
    "        for month in range(1, 13):\n",
    "            smth = str(month).zfill(2)\n",
    "            d_to_get.append(syr + '_' + smth)\n",
    "    return d_to_get[0:9] + d_to_get[10:62] + [d_to_get[63]]\n",
    "\n",
    "def process_soup(soup, date):\n",
    "    trs = soup.find_all('table')[1].find_all('tr')\n",
    "    results = []\n",
    "    for i in range(1, len(trs)):\n",
    "        cur_tr = trs[i]    \n",
    "        tds = cur_tr.find_all(\"td\")\n",
    "        sub_dict = {}\n",
    "        sub_dict['link'] = tds[0].find('a')['href']\n",
    "        sub_dict['appellant'] = tds[1].text\n",
    "        sub_dict['county'] = tds[2].text\n",
    "        sub_dict['reason_code'] = tds[3].text\n",
    "        docket = tds[0].text.split('-')\n",
    "        sub_dict['prop_type'] = docket[2]\n",
    "        sub_dict['valuation_class'] = docket[3]\n",
    "        sub_dict['docket_name'] = docket[0] + '-' + docket[1]\n",
    "        sub_dict['date'] = date\n",
    "        results.append(sub_dict)\n",
    "    return pd.DataFrame(results)\n",
    "\n",
    "def get_itemized_decisions():\n",
    "    valid_dates = gen_valid_dates()\n",
    "    for i, date in enumerate(valid_dates):\n",
    "        print(date)\n",
    "        response = requests.get('http://www.ptab.illinois.gov/decisions/default.asp?sdf=' + date)\n",
    "        time.sleep(5)\n",
    "        soup = BeautifulSoup(response.content, 'html.parser')\n",
    "        if i == 0:\n",
    "            result = process_soup(soup, date)\n",
    "        else:\n",
    "            result = result.append(process_soup(soup, date))\n",
    "    return result"
   ]
  },
  {
   "cell_type": "code",
   "execution_count": 3,
   "metadata": {},
   "outputs": [],
   "source": [
    "decisions = get_itemized_decisions()\n",
    "decisions.to_csv('decisions.csv', index=False)\n",
    "decisions = pd.read_csv('decisions.csv')"
   ]
  },
  {
   "cell_type": "code",
   "execution_count": 1,
   "metadata": {},
   "outputs": [],
   "source": [
    "#downloads pdfs and extracts text\n",
    "\n",
    "def link_to_text_old(link):\n",
    "    response = requests.get(link, timeout=15) \n",
    "    with io.BytesIO(response.content) as f:\n",
    "        pdf = PyPDF2.PdfFileReader(f)\n",
    "        num_page = pdf.getNumPages()\n",
    "        print(num_page)\n",
    "        full_str = ''\n",
    "        for i in range(num_page):\n",
    "            page = pdf.getPage(i)\n",
    "            text = page.extractText()\n",
    "            full_str = full_str + text\n",
    "    return full_str\n",
    "\n",
    "def link_to_text(link):\n",
    "    tmp_loc = 'C:/Users/erhla/Documents/GitHub/ptab_project/tmp.pdf'\n",
    "    response = requests.get(link, timeout=15) \n",
    "    open('C:/Users/erhla/Documents/GitHub/ptab_project/tmp.pdf', 'wb').write(response.content)\n",
    "    text = textract.process(tmp_loc)\n",
    "    return text.decode(\"utf-8\") \n",
    "\n",
    "def process_entry(entry):\n",
    "    try:\n",
    "        text = link_to_text(entry['link'])\n",
    "        f = open('files/' + entry['docket_name'] + '.txt', \"w+\")\n",
    "        f.write(text)\n",
    "        f.close()\n",
    "        #entry.to_frame().T.to_csv('success.csv', mode='a', header=False, index=False)\n",
    "    except:\n",
    "        print(entry['docket_name'])\n",
    "        #entry.to_frame().T.to_csv('failed.csv', mode='a', header=False, index=False)\n",
    "\n",
    "def process_decisions(decisions):\n",
    "    for index, row in decisions.iterrows():\n",
    "        if index % 100 == 0:\n",
    "            print(index)\n",
    "        process_entry(row)\n",
    "\n",
    "process_decisions(decisions)"
   ]
  },
  {
   "cell_type": "code",
   "execution_count": 15,
   "metadata": {},
   "outputs": [
    {
     "data": {
      "text/plain": [
       "8"
      ]
     },
     "execution_count": 15,
     "metadata": {},
     "output_type": "execute_result"
    }
   ],
   "source": [
    "good_files = set([i[:10] for i in os.listdir('files')])\n",
    "total_files = set(decisions.docket_name.tolist())\n",
    "files_to_run = total_files.difference(good_files)\n",
    "len(files_to_run)"
   ]
  },
  {
   "cell_type": "code",
   "execution_count": 16,
   "metadata": {
    "scrolled": true
   },
   "outputs": [
    {
     "name": "stdout",
     "output_type": "stream",
     "text": [
      "2013-34567\n",
      "2015-23709\n",
      "2015-30475\n",
      "2016-21187\n",
      "2016-21312\n",
      "2014-03642\n",
      "2014-03653\n",
      "2017-44543\n"
     ]
    }
   ],
   "source": [
    "process_decisions(decisions[decisions.docket_name.isin(files_to_run)])\n",
    "\n",
    "# these decisions are missing but listed as issued"
   ]
  }
 ],
 "metadata": {
  "kernelspec": {
   "display_name": "Python 3",
   "language": "python",
   "name": "python3"
  },
  "language_info": {
   "codemirror_mode": {
    "name": "ipython",
    "version": 3
   },
   "file_extension": ".py",
   "mimetype": "text/x-python",
   "name": "python",
   "nbconvert_exporter": "python",
   "pygments_lexer": "ipython3",
   "version": "3.7.6"
  }
 },
 "nbformat": 4,
 "nbformat_minor": 4
}
